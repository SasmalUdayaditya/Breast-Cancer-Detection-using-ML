{
 "cells": [
  {
   "cell_type": "code",
   "execution_count": 1,
   "metadata": {},
   "outputs": [],
   "source": [
    "import numpy as np\n",
    "import pandas as pd\n",
    "import seaborn as sns\n",
    "import matplotlib.pyplot as plt\n",
    "\n",
    "import warnings\n",
    "warnings.filterwarnings(\"ignore\")\n",
    "df=pd.read_csv(\"cancer.csv\")\n",
    "df=df.drop(['id','Unnamed: 32'],axis=1)"
   ]
  },
  {
   "cell_type": "code",
   "execution_count": 2,
   "metadata": {},
   "outputs": [],
   "source": [
    "df['texture_mean']=np.sqrt(np.sqrt(np.sqrt(df['texture_mean'])))\n",
    "df['perimeter_mean']=np.log(np.log(np.log(df['perimeter_mean'])))\n",
    "df['smoothness_mean']=np.sqrt(np.sqrt(np.sqrt(df['smoothness_mean'])))\n",
    "df['compactness_mean']=np.log(df['compactness_mean'])\n",
    "df['symmetry_mean']=np.log(df['symmetry_mean'])\n",
    "df['fractal_dimension_mean']=np.log(np.sqrt(df['fractal_dimension_mean']))\n",
    "df['texture_se']=np.log(df['texture_se'])\n",
    "df['smoothness_se']=np.log(np.sqrt(df['smoothness_se']))\n",
    "df['area_se']=np.log(np.log(np.log(df['area_se'])))\n",
    "df['concave points_se']=np.sqrt(df['concave points_se'])\n",
    "df['symmetry_se']=np.log(np.sqrt(df['symmetry_se']))\n",
    "df['fractal_dimension_se']=np.log(np.sqrt(np.sqrt(df['fractal_dimension_se'])))"
   ]
  },
  {
   "cell_type": "code",
   "execution_count": 3,
   "metadata": {},
   "outputs": [],
   "source": [
    "f_drop=['radius_worst','texture_worst','perimeter_worst','area_worst','smoothness_worst','compactness_worst',\\\n",
    "        'concavity_worst','concave points_worst','symmetry_worst','fractal_dimension_worst','radius_mean',\\\n",
    "        'concavity_se','perimeter_se','concavity_mean','area_mean','compactness_se','radius_se','concave points_mean']\n",
    "df=df.drop(f_drop,axis=1)"
   ]
  },
  {
   "cell_type": "code",
   "execution_count": 4,
   "metadata": {
    "scrolled": false
   },
   "outputs": [
    {
     "data": {
      "text/html": [
       "<div>\n",
       "<style scoped>\n",
       "    .dataframe tbody tr th:only-of-type {\n",
       "        vertical-align: middle;\n",
       "    }\n",
       "\n",
       "    .dataframe tbody tr th {\n",
       "        vertical-align: top;\n",
       "    }\n",
       "\n",
       "    .dataframe thead th {\n",
       "        text-align: right;\n",
       "    }\n",
       "</style>\n",
       "<table border=\"1\" class=\"dataframe\">\n",
       "  <thead>\n",
       "    <tr style=\"text-align: right;\">\n",
       "      <th></th>\n",
       "      <th>diagnosis</th>\n",
       "      <th>diagnosis_code</th>\n",
       "    </tr>\n",
       "  </thead>\n",
       "  <tbody>\n",
       "    <tr>\n",
       "      <th>0</th>\n",
       "      <td>M</td>\n",
       "      <td>1</td>\n",
       "    </tr>\n",
       "    <tr>\n",
       "      <th>1</th>\n",
       "      <td>M</td>\n",
       "      <td>1</td>\n",
       "    </tr>\n",
       "    <tr>\n",
       "      <th>2</th>\n",
       "      <td>M</td>\n",
       "      <td>1</td>\n",
       "    </tr>\n",
       "    <tr>\n",
       "      <th>3</th>\n",
       "      <td>M</td>\n",
       "      <td>1</td>\n",
       "    </tr>\n",
       "    <tr>\n",
       "      <th>4</th>\n",
       "      <td>M</td>\n",
       "      <td>1</td>\n",
       "    </tr>\n",
       "  </tbody>\n",
       "</table>\n",
       "</div>"
      ],
      "text/plain": [
       "  diagnosis  diagnosis_code\n",
       "0         M               1\n",
       "1         M               1\n",
       "2         M               1\n",
       "3         M               1\n",
       "4         M               1"
      ]
     },
     "execution_count": 4,
     "metadata": {},
     "output_type": "execute_result"
    }
   ],
   "source": [
    "from sklearn.preprocessing import LabelEncoder\n",
    "le_diagnosis=LabelEncoder()\n",
    "df['diagnosis_code']=le_diagnosis.fit_transform(df['diagnosis'])\n",
    "df[['diagnosis','diagnosis_code']].head()"
   ]
  },
  {
   "cell_type": "code",
   "execution_count": 5,
   "metadata": {},
   "outputs": [
    {
     "data": {
      "text/plain": [
       "0    1\n",
       "1    1\n",
       "2    1\n",
       "3    1\n",
       "4    1\n",
       "Name: diagnosis_code, dtype: int32"
      ]
     },
     "execution_count": 5,
     "metadata": {},
     "output_type": "execute_result"
    }
   ],
   "source": [
    "df.drop('diagnosis',axis=1,inplace=True)\n",
    "df['diagnosis_code'].head()"
   ]
  },
  {
   "cell_type": "code",
   "execution_count": 6,
   "metadata": {},
   "outputs": [],
   "source": [
    "X=df.drop(['diagnosis_code'],axis=1)\n",
    "Y=df['diagnosis_code']"
   ]
  },
  {
   "cell_type": "code",
   "execution_count": 7,
   "metadata": {},
   "outputs": [
    {
     "data": {
      "text/html": [
       "<div>\n",
       "<style scoped>\n",
       "    .dataframe tbody tr th:only-of-type {\n",
       "        vertical-align: middle;\n",
       "    }\n",
       "\n",
       "    .dataframe tbody tr th {\n",
       "        vertical-align: top;\n",
       "    }\n",
       "\n",
       "    .dataframe thead th {\n",
       "        text-align: right;\n",
       "    }\n",
       "</style>\n",
       "<table border=\"1\" class=\"dataframe\">\n",
       "  <thead>\n",
       "    <tr style=\"text-align: right;\">\n",
       "      <th></th>\n",
       "      <th>1</th>\n",
       "    </tr>\n",
       "  </thead>\n",
       "  <tbody>\n",
       "    <tr>\n",
       "      <th>0</th>\n",
       "      <td>1</td>\n",
       "    </tr>\n",
       "    <tr>\n",
       "      <th>1</th>\n",
       "      <td>1</td>\n",
       "    </tr>\n",
       "    <tr>\n",
       "      <th>2</th>\n",
       "      <td>1</td>\n",
       "    </tr>\n",
       "    <tr>\n",
       "      <th>3</th>\n",
       "      <td>1</td>\n",
       "    </tr>\n",
       "    <tr>\n",
       "      <th>4</th>\n",
       "      <td>1</td>\n",
       "    </tr>\n",
       "  </tbody>\n",
       "</table>\n",
       "</div>"
      ],
      "text/plain": [
       "   1\n",
       "0  1\n",
       "1  1\n",
       "2  1\n",
       "3  1\n",
       "4  1"
      ]
     },
     "execution_count": 7,
     "metadata": {},
     "output_type": "execute_result"
    }
   ],
   "source": [
    "diagnosis_code=pd.get_dummies(df['diagnosis_code'],drop_first=True)\n",
    "diagnosis_code.head()"
   ]
  },
  {
   "cell_type": "code",
   "execution_count": 8,
   "metadata": {},
   "outputs": [
    {
     "data": {
      "text/plain": [
       "0    357\n",
       "1    212\n",
       "Name: diagnosis_code, dtype: int64"
      ]
     },
     "execution_count": 8,
     "metadata": {},
     "output_type": "execute_result"
    }
   ],
   "source": [
    "df.diagnosis_code.value_counts()"
   ]
  },
  {
   "cell_type": "code",
   "execution_count": 9,
   "metadata": {},
   "outputs": [],
   "source": [
    "from sklearn.model_selection import train_test_split\n",
    "from sklearn.tree import DecisionTreeClassifier\n",
    "from sklearn.metrics import confusion_matrix\n",
    "from sklearn.metrics import classification_report\n",
    "from sklearn.metrics import accuracy_score"
   ]
  },
  {
   "cell_type": "markdown",
   "metadata": {},
   "source": [
    "# Train Data With 9 Input Features"
   ]
  },
  {
   "cell_type": "code",
   "execution_count": 10,
   "metadata": {},
   "outputs": [
    {
     "name": "stdout",
     "output_type": "stream",
     "text": [
      "[[104  13]\n",
      " [  7  47]]\n"
     ]
    }
   ],
   "source": [
    "x=df.drop(['diagnosis_code','fractal_dimension_se','texture_se',],axis=1)\n",
    "y=df.diagnosis_code\n",
    "\n",
    "x_train,x_test,y_train,y_test=train_test_split(x,y,test_size=0.3,random_state=4)\n",
    "\n",
    "classifier_entropy=DecisionTreeClassifier(criterion='entropy',random_state=42,max_depth=3)\n",
    "\n",
    "classifier_entropy.fit(x_train,y_train)\n",
    "\n",
    "predictions=classifier_entropy.predict(x_test)\n",
    "\n",
    "r=confusion_matrix(y_test,predictions)\n",
    "print(r)"
   ]
  },
  {
   "cell_type": "code",
   "execution_count": 11,
   "metadata": {},
   "outputs": [
    {
     "name": "stdout",
     "output_type": "stream",
     "text": [
      "accuracy: 88.30409356725146\n",
      "True Positive Rate (TPR) : 93.69369369369369\n",
      "True Negative Rate (TNR) : 78.33333333333333\n",
      "False Negative Rate (FNR) : 6.306306306306306\n",
      "False Positive Rate (FPR) : 21.666666666666668\n",
      "              precision    recall  f1-score   support\n",
      "\n",
      "           0       0.94      0.89      0.91       117\n",
      "           1       0.78      0.87      0.82        54\n",
      "\n",
      "   micro avg       0.88      0.88      0.88       171\n",
      "   macro avg       0.86      0.88      0.87       171\n",
      "weighted avg       0.89      0.88      0.88       171\n",
      "\n"
     ]
    }
   ],
   "source": [
    "print(\"accuracy:\",accuracy_score(y_test,predictions)*100)\n",
    "print(\"True Positive Rate (TPR) :\",(r[0][0]/(r[0][0]+r[1][0]))*100)\n",
    "print(\"True Negative Rate (TNR) :\",(r[1][1]/(r[1][1]+r[0][1]))*100)\n",
    "print(\"False Negative Rate (FNR) :\",(r[1][0]/(r[1][0]+r[0][0]))*100)\n",
    "print(\"False Positive Rate (FPR) :\",(r[0][1]/(r[0][1]+r[1][1]))*100)\n",
    "x1=(classification_report(y_test,predictions))\n",
    "print(x1)"
   ]
  },
  {
   "cell_type": "markdown",
   "metadata": {},
   "source": [
    "# Train Data With 10 Input Features"
   ]
  },
  {
   "cell_type": "code",
   "execution_count": 12,
   "metadata": {},
   "outputs": [
    {
     "name": "stdout",
     "output_type": "stream",
     "text": [
      "[[104  13]\n",
      " [  7  47]]\n"
     ]
    }
   ],
   "source": [
    "x=df.drop(['diagnosis_code','fractal_dimension_se','texture_se',],axis=1)\n",
    "y=df.diagnosis_code\n",
    "\n",
    "x_train,x_test,y_train,y_test=train_test_split(x,y,test_size=0.3,random_state=4)\n",
    "\n",
    "classifier_entropy=DecisionTreeClassifier(criterion='entropy',random_state=42,max_depth=3)\n",
    "\n",
    "classifier_entropy.fit(x_train,y_train)\n",
    "\n",
    "predictions=classifier_entropy.predict(x_test)\n",
    "\n",
    "r=confusion_matrix(y_test,predictions)\n",
    "print(r)"
   ]
  },
  {
   "cell_type": "code",
   "execution_count": 13,
   "metadata": {},
   "outputs": [
    {
     "name": "stdout",
     "output_type": "stream",
     "text": [
      "accuracy: 88.30409356725146\n",
      "True Positive Rate (TPR) : 93.69369369369369\n",
      "True Negative Rate (TNR) : 78.33333333333333\n",
      "False Negative Rate (FNR) : 6.306306306306306\n",
      "False Positive Rate (FPR) : 21.666666666666668\n",
      "              precision    recall  f1-score   support\n",
      "\n",
      "           0       0.94      0.89      0.91       117\n",
      "           1       0.78      0.87      0.82        54\n",
      "\n",
      "   micro avg       0.88      0.88      0.88       171\n",
      "   macro avg       0.86      0.88      0.87       171\n",
      "weighted avg       0.89      0.88      0.88       171\n",
      "\n"
     ]
    }
   ],
   "source": [
    "print(\"accuracy:\",accuracy_score(y_test,predictions)*100)\n",
    "print(\"True Positive Rate (TPR) :\",(r[0][0]/(r[0][0]+r[1][0]))*100)\n",
    "print(\"True Negative Rate (TNR) :\",(r[1][1]/(r[1][1]+r[0][1]))*100)\n",
    "print(\"False Negative Rate (FNR) :\",(r[1][0]/(r[1][0]+r[0][0]))*100)\n",
    "print(\"False Positive Rate (FPR) :\",(r[0][1]/(r[0][1]+r[1][1]))*100)\n",
    "x1=(classification_report(y_test,predictions))\n",
    "print(x1)"
   ]
  },
  {
   "cell_type": "markdown",
   "metadata": {},
   "source": [
    "# Train Data With 11 Input Features"
   ]
  },
  {
   "cell_type": "code",
   "execution_count": 14,
   "metadata": {},
   "outputs": [
    {
     "name": "stdout",
     "output_type": "stream",
     "text": [
      "[[104  13]\n",
      " [  7  47]]\n"
     ]
    }
   ],
   "source": [
    "x=df.drop(['diagnosis_code','fractal_dimension_se'],axis=1)\n",
    "y=df.diagnosis_code\n",
    "\n",
    "x_train,x_test,y_train,y_test=train_test_split(x,y,test_size=0.3,random_state=4)\n",
    "\n",
    "classifier_entropy=DecisionTreeClassifier(criterion='entropy',random_state=42,max_depth=3)\n",
    "\n",
    "classifier_entropy.fit(x_train,y_train)\n",
    "\n",
    "predictions=classifier_entropy.predict(x_test)\n",
    "\n",
    "r=confusion_matrix(y_test,predictions)\n",
    "print(r)# Train Data With 12 Variables"
   ]
  },
  {
   "cell_type": "code",
   "execution_count": 15,
   "metadata": {},
   "outputs": [
    {
     "name": "stdout",
     "output_type": "stream",
     "text": [
      "accuracy: 88.30409356725146\n",
      "True Positive Rate (TPR) : 93.69369369369369\n",
      "True Negative Rate (TNR) : 78.33333333333333\n",
      "False Negative Rate (FNR) : 6.306306306306306\n",
      "False Positive Rate (FPR) : 21.666666666666668\n",
      "              precision    recall  f1-score   support\n",
      "\n",
      "           0       0.94      0.89      0.91       117\n",
      "           1       0.78      0.87      0.82        54\n",
      "\n",
      "   micro avg       0.88      0.88      0.88       171\n",
      "   macro avg       0.86      0.88      0.87       171\n",
      "weighted avg       0.89      0.88      0.88       171\n",
      "\n"
     ]
    }
   ],
   "source": [
    "print(\"accuracy:\",accuracy_score(y_test,predictions)*100)\n",
    "print(\"True Positive Rate (TPR) :\",(r[0][0]/(r[0][0]+r[1][0]))*100)\n",
    "print(\"True Negative Rate (TNR) :\",(r[1][1]/(r[1][1]+r[0][1]))*100)\n",
    "print(\"False Negative Rate (FNR) :\",(r[1][0]/(r[1][0]+r[0][0]))*100)\n",
    "print(\"False Positive Rate (FPR) :\",(r[0][1]/(r[0][1]+r[1][1]))*100)\n",
    "x1=(classification_report(y_test,predictions))\n",
    "print(x1)"
   ]
  },
  {
   "cell_type": "markdown",
   "metadata": {},
   "source": [
    "# Train Data With 12 Input Features"
   ]
  },
  {
   "cell_type": "code",
   "execution_count": 16,
   "metadata": {},
   "outputs": [
    {
     "name": "stdout",
     "output_type": "stream",
     "text": [
      "[[105  12]\n",
      " [  7  47]]\n"
     ]
    }
   ],
   "source": [
    "x=df.drop(['diagnosis_code'],axis=1)\n",
    "y=df.diagnosis_code\n",
    "\n",
    "x_train,x_test,y_train,y_test=train_test_split(x,y,test_size=0.3,random_state=4)\n",
    "\n",
    "classifier_entropy=DecisionTreeClassifier(criterion='entropy',random_state=42,max_depth=3)\n",
    "\n",
    "classifier_entropy.fit(x_train,y_train)\n",
    "\n",
    "predictions=classifier_entropy.predict(x_test)\n",
    "\n",
    "r=confusion_matrix(y_test,predictions)\n",
    "print(r)"
   ]
  },
  {
   "cell_type": "code",
   "execution_count": 17,
   "metadata": {},
   "outputs": [
    {
     "name": "stdout",
     "output_type": "stream",
     "text": [
      "accuracy: 88.88888888888889\n",
      "True Positive Rate (TPR) : 93.75\n",
      "True Negative Rate (TNR) : 79.66101694915254\n",
      "False Negative Rate (FNR) : 6.25\n",
      "False Positive Rate (FPR) : 20.33898305084746\n",
      "              precision    recall  f1-score   support\n",
      "\n",
      "           0       0.94      0.90      0.92       117\n",
      "           1       0.80      0.87      0.83        54\n",
      "\n",
      "   micro avg       0.89      0.89      0.89       171\n",
      "   macro avg       0.87      0.88      0.87       171\n",
      "weighted avg       0.89      0.89      0.89       171\n",
      "\n"
     ]
    }
   ],
   "source": [
    "print(\"accuracy:\",accuracy_score(y_test,predictions)*100)\n",
    "print(\"True Positive Rate (TPR) :\",(r[0][0]/(r[0][0]+r[1][0]))*100)\n",
    "print(\"True Negative Rate (TNR) :\",(r[1][1]/(r[1][1]+r[0][1]))*100)\n",
    "print(\"False Negative Rate (FNR) :\",(r[1][0]/(r[1][0]+r[0][0]))*100)\n",
    "print(\"False Positive Rate (FPR) :\",(r[0][1]/(r[0][1]+r[1][1]))*100)\n",
    "x1=(classification_report(y_test,predictions))\n",
    "print(x1)"
   ]
  }
 ],
 "metadata": {
  "kernelspec": {
   "display_name": "Python 3",
   "language": "python",
   "name": "python3"
  },
  "language_info": {
   "codemirror_mode": {
    "name": "ipython",
    "version": 3
   },
   "file_extension": ".py",
   "mimetype": "text/x-python",
   "name": "python",
   "nbconvert_exporter": "python",
   "pygments_lexer": "ipython3",
   "version": "3.7.3"
  }
 },
 "nbformat": 4,
 "nbformat_minor": 2
}
